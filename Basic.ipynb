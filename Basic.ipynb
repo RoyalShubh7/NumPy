{
 "cells": [
  {
   "cell_type": "code",
   "execution_count": 2,
   "metadata": {},
   "outputs": [
    {
     "data": {
      "text/plain": [
       "array([ 5,  9, 13, 15, 16, 13, 12])"
      ]
     },
     "execution_count": 2,
     "metadata": {},
     "output_type": "execute_result"
    }
   ],
   "source": [
    "import numpy as np\n",
    "np.array([5,9,13,15,16,13,12])"
   ]
  },
  {
   "cell_type": "code",
   "execution_count": 3,
   "metadata": {},
   "outputs": [
    {
     "data": {
      "text/plain": [
       "list"
      ]
     },
     "execution_count": 3,
     "metadata": {},
     "output_type": "execute_result"
    }
   ],
   "source": [
    "type([5,9,13,15,16,13,12])"
   ]
  },
  {
   "cell_type": "code",
   "execution_count": 4,
   "metadata": {},
   "outputs": [
    {
     "name": "stdout",
     "output_type": "stream",
     "text": [
      "[ 5  9 13 15 16 13 12]\n"
     ]
    }
   ],
   "source": [
    "import numpy as np\n",
    "\n",
    "array= np.array([5,9,13,15,16,13,12])\n",
    "print(array)"
   ]
  },
  {
   "cell_type": "code",
   "execution_count": 5,
   "metadata": {},
   "outputs": [
    {
     "data": {
      "text/plain": [
       "numpy.dtype[int64]"
      ]
     },
     "execution_count": 5,
     "metadata": {},
     "output_type": "execute_result"
    }
   ],
   "source": [
    "type(array.dtype)"
   ]
  },
  {
   "cell_type": "code",
   "execution_count": 6,
   "metadata": {},
   "outputs": [
    {
     "name": "stdout",
     "output_type": "stream",
     "text": [
      "TYPE  -  int64\n",
      "\n",
      " **************************************************\n"
     ]
    },
    {
     "ename": "NameError",
     "evalue": "name 'a' is not defined",
     "output_type": "error",
     "traceback": [
      "\u001b[0;31m---------------------------------------------------------------------------\u001b[0m",
      "\u001b[0;31mNameError\u001b[0m                                 Traceback (most recent call last)",
      "\u001b[0;32m/var/folders/4d/ytl5tj193_7br22pvpj_t5n40000gn/T/ipykernel_15007/605300161.py\u001b[0m in \u001b[0;36m<module>\u001b[0;34m\u001b[0m\n\u001b[1;32m      8\u001b[0m \u001b[0mprint\u001b[0m\u001b[0;34m(\u001b[0m\u001b[0;34m\"\\n\"\u001b[0m\u001b[0;34m,\u001b[0m \u001b[0;34m\"*\"\u001b[0m \u001b[0;34m*\u001b[0m \u001b[0;36m50\u001b[0m\u001b[0;34m)\u001b[0m\u001b[0;34m\u001b[0m\u001b[0;34m\u001b[0m\u001b[0m\n\u001b[1;32m      9\u001b[0m \u001b[0;34m\u001b[0m\u001b[0m\n\u001b[0;32m---> 10\u001b[0;31m \u001b[0mprint\u001b[0m\u001b[0;34m(\u001b[0m\u001b[0;34m\"\\n\"\u001b[0m\u001b[0;34m,\u001b[0m \u001b[0ma\u001b[0m\u001b[0;34m)\u001b[0m\u001b[0;34m\u001b[0m\u001b[0;34m\u001b[0m\u001b[0m\n\u001b[0m",
      "\u001b[0;31mNameError\u001b[0m: name 'a' is not defined"
     ]
    }
   ],
   "source": [
    "# TWO DIMENSIONAL\n",
    "\n",
    "\n",
    "arg = np.array([[2,3],[4,5],[5,6],[6,8],[8,9]])\n",
    "\n",
    "print (\"TYPE  - \", arg.dtype)\n",
    "\n",
    "print(\"\\n\", \"*\" * 50)\n",
    "\n",
    "print(\"\\n\", a)"
   ]
  },
  {
   "cell_type": "code",
   "execution_count": 7,
   "metadata": {},
   "outputs": [
    {
     "data": {
      "text/plain": [
       "array([1., 2., 3., 4., 5., 6.])"
      ]
     },
     "execution_count": 7,
     "metadata": {},
     "output_type": "execute_result"
    }
   ],
   "source": [
    "# data type conversion\n",
    "\n",
    "np.array([1,2,3,4,5,6], dtype= float)"
   ]
  },
  {
   "cell_type": "code",
   "execution_count": 8,
   "metadata": {},
   "outputs": [
    {
     "data": {
      "text/plain": [
       "array([[1, 2, 3, 4, 5],\n",
       "       [6, 7, 8, 8, 9]])"
      ]
     },
     "execution_count": 8,
     "metadata": {},
     "output_type": "execute_result"
    }
   ],
   "source": [
    "# creating array using .mat   (matrix)\n",
    "\n",
    "\n",
    "np.array(np.mat(\"1 2 3 4 5 ; 6 7 8 8 9\"))"
   ]
  },
  {
   "cell_type": "code",
   "execution_count": 9,
   "metadata": {},
   "outputs": [
    {
     "name": "stdout",
     "output_type": "stream",
     "text": [
      "[1 2 3 4 5]\n"
     ]
    }
   ],
   "source": [
    "# converting list into array:\n",
    "\n",
    "\n",
    "list= [1,2,3,4,5]\n",
    "array= np.array(list)\n",
    "print(array)"
   ]
  },
  {
   "cell_type": "code",
   "execution_count": 10,
   "metadata": {},
   "outputs": [
    {
     "name": "stdout",
     "output_type": "stream",
     "text": [
      "[1 2 3 4 5]\n"
     ]
    }
   ],
   "source": [
    "# copy array into other:\n",
    "\n",
    "\n",
    "array1= np.asarray(array)\n",
    "print(array1)"
   ]
  },
  {
   "cell_type": "code",
   "execution_count": 11,
   "metadata": {},
   "outputs": [
    {
     "name": "stdout",
     "output_type": "stream",
     "text": [
      "[[1 2 3]\n",
      " [4 5 6]\n",
      " [7 8 9]\n",
      " [3 5 7]]\n",
      " \n",
      " print type/class of this object:  <class 'numpy.ndarray'>\n",
      " \n",
      " here is the matrix \n",
      "-------------\n",
      " [[1 2 3]\n",
      " [4 5 6]\n",
      " [7 8 9]\n",
      " [3 5 7]] \n",
      "------------\n",
      "\n",
      " dimension of this matrix: 2\n",
      "\n",
      " size of this matrix: 12\n",
      "\n",
      " shape of this matrix:  (4, 3)\n",
      "\n",
      " data type of this matrix:  int64\n"
     ]
    }
   ],
   "source": [
    "# DATA TYPES  :::::::\n",
    "\n",
    "\n",
    "\n",
    "my_mat=[[1,2,3,],[4,5,6],[7,8,9],[3,5,7]]\n",
    "mat= np.array(my_mat)\n",
    "\n",
    "\n",
    "\n",
    "print(mat)\n",
    "\n",
    "print(\" \\n print type/class of this object: \", type(mat) )\n",
    "\n",
    "print(\" \\n here is the matrix \\n-------------\\n\",mat,\"\\n------------\")\n",
    "\n",
    "print(\"\\n dimension of this matrix: \",mat.ndim, sep=\"\")\n",
    "\n",
    "print(\"\\n size of this matrix: \",mat.size,sep=\"\") # gives the total numbers of the matrix elements \n",
    "\n",
    "\n",
    "print(\"\\n shape of this matrix: \",mat.shape)\n",
    "\n",
    "\n",
    "print(\"\\n data type of this matrix: \",mat.dtype)\n"
   ]
  },
  {
   "cell_type": "code",
   "execution_count": 12,
   "metadata": {},
   "outputs": [
    {
     "ename": "TypeError",
     "evalue": "list indices must be integers or slices, not range",
     "output_type": "error",
     "traceback": [
      "\u001b[0;31m---------------------------------------------------------------------------\u001b[0m",
      "\u001b[0;31mTypeError\u001b[0m                                 Traceback (most recent call last)",
      "\u001b[0;32m/var/folders/4d/ytl5tj193_7br22pvpj_t5n40000gn/T/ipykernel_15007/1386842822.py\u001b[0m in \u001b[0;36m<module>\u001b[0;34m\u001b[0m\n\u001b[1;32m      2\u001b[0m \u001b[0;34m\u001b[0m\u001b[0m\n\u001b[1;32m      3\u001b[0m \u001b[0;31m# don't work with python range  ( in python we can't generate the flote numbers in range i.e the limitation in the python.)\u001b[0m\u001b[0;34m\u001b[0m\u001b[0;34m\u001b[0m\u001b[0m\n\u001b[0;32m----> 4\u001b[0;31m \u001b[0mlist\u001b[0m\u001b[0;34m[\u001b[0m\u001b[0mrange\u001b[0m\u001b[0;34m(\u001b[0m\u001b[0;36m2\u001b[0m\u001b[0;34m,\u001b[0m\u001b[0;36m10\u001b[0m\u001b[0;34m)\u001b[0m\u001b[0;34m]\u001b[0m\u001b[0;34m\u001b[0m\u001b[0;34m\u001b[0m\u001b[0m\n\u001b[0m",
      "\u001b[0;31mTypeError\u001b[0m: list indices must be integers or slices, not range"
     ]
    }
   ],
   "source": [
    "# arange and linspace:::::::\n",
    "\n",
    "# don't work with python range  ( in python we can't generate the flote numbers in range i.e the limitation in the python.)\n",
    "list[range(2,10)]\n"
   ]
  },
  {
   "cell_type": "code",
   "execution_count": 13,
   "metadata": {},
   "outputs": [
    {
     "name": "stdout",
     "output_type": "stream",
     "text": [
      "[ 2.   2.4  2.8  3.2  3.6  4.   4.4  4.8  5.2  5.6  6.   6.4  6.8  7.2\n",
      "  7.6  8.   8.4  8.8  9.2  9.6 10.  10.4]\n"
     ]
    }
   ],
   "source": [
    "a= np.arange(2,10.5,.4)\n",
    "print(a)"
   ]
  },
  {
   "cell_type": "code",
   "execution_count": 14,
   "metadata": {},
   "outputs": [
    {
     "data": {
      "text/plain": [
       "array([10.4, 10. ,  9.6,  9.2,  8.8,  8.4,  8. ,  7.6,  7.2,  6.8,  6.4,\n",
       "        6. ,  5.6,  5.2,  4.8,  4.4,  4. ,  3.6,  3.2,  2.8,  2.4,  2. ])"
      ]
     },
     "execution_count": 14,
     "metadata": {},
     "output_type": "execute_result"
    }
   ],
   "source": [
    "# reverse order:::\n",
    "\n",
    "\n",
    "a[::-1]"
   ]
  },
  {
   "cell_type": "code",
   "execution_count": 15,
   "metadata": {},
   "outputs": [
    {
     "name": "stdout",
     "output_type": "stream",
     "text": [
      "Every 5th number from 50 in the reverse order :  [50 45 40 35 30 25 20 15 10  5]\n",
      "\n",
      " linearly spaced numbers 1 to 5 \n",
      "------------ \n",
      " [10.   18.75 27.5  36.25 45.  ] \n",
      "--------------\n"
     ]
    }
   ],
   "source": [
    "print(\"Every 5th number from 50 in the reverse order : \",np.arange(50,0,-5))\n",
    "\n",
    "\n",
    "print(\"\\n linearly spaced numbers 1 to 5 \\n------------\",\"\\n\",np.linspace(10,45,5),\"\\n--------------\")"
   ]
  },
  {
   "cell_type": "code",
   "execution_count": 21,
   "metadata": {},
   "outputs": [
    {
     "name": "stdout",
     "output_type": "stream",
     "text": [
      "(array([ 5.765   ,  5.889975,  6.01495 ,  6.139925,  6.2649  ,  6.389875,\n",
      "        6.51485 ,  6.639825,  6.7648  ,  6.889775,  7.01475 ,  7.139725,\n",
      "        7.2647  ,  7.389675,  7.51465 ,  7.639625,  7.7646  ,  7.889575,\n",
      "        8.01455 ,  8.139525,  8.2645  ,  8.389475,  8.51445 ,  8.639425,\n",
      "        8.7644  ,  8.889375,  9.01435 ,  9.139325,  9.2643  ,  9.389275,\n",
      "        9.51425 ,  9.639225,  9.7642  ,  9.889175, 10.01415 , 10.139125,\n",
      "       10.2641  , 10.389075, 10.51405 , 10.639025]), 0.12497499999999999)\n"
     ]
    }
   ],
   "source": [
    "# include endpoint and check space between the points:::\n",
    "\n",
    "# by default endpooint=true\n",
    "\n",
    "# byfault retstep= false\n",
    "import numpy as np\n",
    "\n",
    "np.linspace(2.0,3.0,num=4,endpoint=False,retstep=True)\n",
    "\n",
    "\n",
    "\n",
    "print(np.linspace(5.765,10.764,40,endpoint=False,retstep=True))"
   ]
  },
  {
   "cell_type": "code",
   "execution_count": 29,
   "metadata": {},
   "outputs": [
    {
     "name": "stdout",
     "output_type": "stream",
     "text": [
      "vector of Zeros [0. 0. 0. 0. 0. 0. 0. 0. 0. 0.]\n",
      "\n",
      " vector of Zeros [[0. 0. 0. 0. 0. 0. 0. 0. 0.]\n",
      " [0. 0. 0. 0. 0. 0. 0. 0. 0.]\n",
      " [0. 0. 0. 0. 0. 0. 0. 0. 0.]\n",
      " [0. 0. 0. 0. 0. 0. 0. 0. 0.]\n",
      " [0. 0. 0. 0. 0. 0. 0. 0. 0.]\n",
      " [0. 0. 0. 0. 0. 0. 0. 0. 0.]\n",
      " [0. 0. 0. 0. 0. 0. 0. 0. 0.]\n",
      " [0. 0. 0. 0. 0. 0. 0. 0. 0.]]\n"
     ]
    }
   ],
   "source": [
    "# MATRIX CREATION::::::::\n",
    "\n",
    "\n",
    "print(\"vector of Zeros\",np.zeros(10))\n",
    "\n",
    "\n",
    "print(\"\\n vector of Zeros\",np.zeros((8,9)))"
   ]
  },
  {
   "cell_type": "code",
   "execution_count": 36,
   "metadata": {},
   "outputs": [
    {
     "name": "stdout",
     "output_type": "stream",
     "text": [
      "matrix of zeros : \n",
      "-----------------------\n",
      "[[0. 0. 0. 0. 0. 0.]\n",
      " [0. 0. 0. 0. 0. 0.]\n",
      " [0. 0. 0. 0. 0. 0.]\n",
      " [0. 0. 0. 0. 0. 0.]\n",
      " [0. 0. 0. 0. 0. 0.]]\n",
      "\n",
      "------------------- \n",
      " [[1. 1. 1. 1. 1. 1.]\n",
      " [1. 1. 1. 1. 1. 1.]\n",
      " [1. 1. 1. 1. 1. 1.]\n",
      " [1. 1. 1. 1. 1. 1.]\n",
      " [1. 1. 1. 1. 1. 1.]]\n",
      "\n",
      "-------------------- \n",
      " [[5. 5. 5. 5. 5. 5.]\n",
      " [5. 5. 5. 5. 5. 5.]\n",
      " [5. 5. 5. 5. 5. 5.]\n",
      " [5. 5. 5. 5. 5. 5.]\n",
      " [5. 5. 5. 5. 5. 5.]]\n"
     ]
    }
   ],
   "source": [
    "print(\"matrix of zeros :\",\"\\n-----------------------\")\n",
    "\n",
    "print(np.zeros((5,6)))\n",
    "\n",
    "\n",
    "\n",
    "print(\"\\n-------------------\",\"\\n\",np.ones((5,6)))\n",
    "\n",
    "\n",
    "\n",
    "print(\"\\n--------------------\",\"\\n\",5*np.ones((5,6)))"
   ]
  },
  {
   "cell_type": "code",
   "execution_count": 42,
   "metadata": {},
   "outputs": [
    {
     "name": "stdout",
     "output_type": "stream",
     "text": [
      "[[ 0  1  2  3  4  5]\n",
      " [ 6  7  8  9 10 11]\n",
      " [12 13 14 15 16 17]\n",
      " [18 19 20 21 22 23]\n",
      " [24 25 26 27 28 29]]\n",
      "\n",
      "-------------------------- \n",
      " [[ 0  1  2  3  4]\n",
      " [ 5  6  7  8  9]\n",
      " [10 11 12 13 14]\n",
      " [15 16 17 18 19]\n",
      " [20 21 22 23 24]\n",
      " [25 26 27 28 29]\n",
      " [30 31 32 33 34]\n",
      " [35 36 37 38 39]\n",
      " [40 41 42 43 44]\n",
      " [45 46 47 48 49]]\n"
     ]
    }
   ],
   "source": [
    "# construct diagonal matrix\n",
    "\n",
    "\n",
    "\n",
    "a=np.arange(30).reshape(5,6)\n",
    "\n",
    "\n",
    "print(a)\n",
    "\n",
    "\n",
    "print(\"\\n--------------------------\",\"\\n\",np.arange(50).reshape(10,5))"
   ]
  },
  {
   "cell_type": "code",
   "execution_count": 52,
   "metadata": {},
   "outputs": [
    {
     "name": "stdout",
     "output_type": "stream",
     "text": [
      "Random number generation (from uniform distribution) : \n",
      "\n",
      " [[0.89286015 0.33197981 0.82122912 0.04169663 0.10765668 0.59505206]\n",
      " [0.52981736 0.41880743 0.33540785 0.62251943 0.43814143 0.73588211]\n",
      " [0.51803641 0.5788586  0.6453551  0.99022427 0.8198582  0.41320093]\n",
      " [0.87626766 0.82375943 0.05447451 0.71863724 0.80217056 0.73640664]\n",
      " [0.70913175 0.54093685 0.12482417 0.9576473  0.4032563  0.21695116]\n",
      " [0.71727585 0.99420744 0.25561406 0.67130943 0.59900591 0.71733215]\n",
      " [0.93734953 0.35180977 0.2536341  0.40247251 0.74651072 0.72407057]\n",
      " [0.4061078  0.98937985 0.45049928 0.37380843 0.70962861 0.08245855]\n",
      " [0.39837292 0.77088097 0.76475098 0.28385938 0.18954219 0.47125096]\n",
      " [0.33480604 0.73473504 0.18910712 0.33110407 0.84422842 0.61502403]]\n"
     ]
    }
   ],
   "source": [
    "# Randooom number generation::::::::\n",
    "\n",
    "\n",
    "np.random.seed(6) #each number will generatte similar data\n",
    "\n",
    "\n",
    "print(\"Random number generation (from uniform distribution) : \")\n",
    "\n",
    "print(\"\\n\",np.random.rand(10,6))"
   ]
  },
  {
   "cell_type": "code",
   "execution_count": 53,
   "metadata": {},
   "outputs": [
    {
     "name": "stdout",
     "output_type": "stream",
     "text": [
      "Numbers from normal distribution with zeroo mean and standard deviation 1 i.e. standard normal\n",
      "[[-0.37550472  0.39636757 -0.47144628]\n",
      " [ 2.33660781  1.50278553 -0.59545972]\n",
      " [ 0.52834106  0.9398248   0.42628539]\n",
      " [-0.75815703 -0.16236698  0.72680996]\n",
      " [ 0.44408297 -0.85682264  0.44692842]\n",
      " [-1.01464799 -2.1323234   0.17386307]\n",
      " [ 0.95120126  0.44189739  1.46901739]\n",
      " [ 1.74951635  0.35353062 -0.64333729]\n",
      " [-0.04723705 -1.44903979 -0.03618977]\n",
      " [-0.09084699  0.17629034  1.09462041]]\n"
     ]
    }
   ],
   "source": [
    "print(\"Numbers from normal distribution with zeroo mean and standard deviation 1 i.e. standard normal\")\n",
    "print(np.random.randn(10,3))"
   ]
  },
  {
   "cell_type": "code",
   "execution_count": 57,
   "metadata": {},
   "outputs": [
    {
     "name": "stdout",
     "output_type": "stream",
     "text": [
      "Random integer vector: [39 36  7 17 19 35 31  5 32  7  7 26  5 16 27 21 14 26 34 36 29  7 32 25\n",
      " 39 10 31 27 38 38]\n"
     ]
    }
   ],
   "source": [
    "print(\"Random integer vector:\",np.random.randint(5,40,30)) #(low,high,no. of samples to be printed)\n",
    "\n"
   ]
  },
  {
   "cell_type": "code",
   "execution_count": 59,
   "metadata": {},
   "outputs": [
    {
     "name": "stdout",
     "output_type": "stream",
     "text": [
      "\n",
      " Random integer matrix :\n",
      "[[34 39 25 34  6 42 29 14]\n",
      " [30  3 19 12 21 43 41 40]\n",
      " [34 22  4 32 39  5 22  7]\n",
      " [ 9 42 30 24 33  4 35  8]\n",
      " [48 23  1 38 47 15 25 30]]\n"
     ]
    }
   ],
   "source": [
    "print(\"\\n Random integer matrix :\")\n",
    "\n",
    "print(np.random.randint(1,50,(5,8)))"
   ]
  },
  {
   "cell_type": "code",
   "execution_count": null,
   "metadata": {},
   "outputs": [],
   "source": []
  }
 ],
 "metadata": {
  "interpreter": {
   "hash": "0def72b556254a724fc3e2d1e23928e40de47d3f8c60ebc77b77de7a79aa0f70"
  },
  "kernelspec": {
   "display_name": "Python 3.9.7",
   "language": "python",
   "name": "python3"
  },
  "language_info": {
   "codemirror_mode": {
    "name": "ipython",
    "version": 3
   },
   "file_extension": ".py",
   "mimetype": "text/x-python",
   "name": "python",
   "nbconvert_exporter": "python",
   "pygments_lexer": "ipython3",
   "version": "3.9.7"
  },
  "orig_nbformat": 4
 },
 "nbformat": 4,
 "nbformat_minor": 2
}
