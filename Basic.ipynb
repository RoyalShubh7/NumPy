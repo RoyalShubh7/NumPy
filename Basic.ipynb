{
 "cells": [
  {
   "cell_type": "code",
   "execution_count": 8,
   "metadata": {},
   "outputs": [
    {
     "data": {
      "text/plain": [
       "array([ 5,  9, 13, 15, 16, 13, 12])"
      ]
     },
     "execution_count": 8,
     "metadata": {},
     "output_type": "execute_result"
    }
   ],
   "source": [
    "import numpy as np\n",
    "np.array([5,9,13,15,16,13,12])"
   ]
  },
  {
   "cell_type": "code",
   "execution_count": 9,
   "metadata": {},
   "outputs": [
    {
     "data": {
      "text/plain": [
       "list"
      ]
     },
     "execution_count": 9,
     "metadata": {},
     "output_type": "execute_result"
    }
   ],
   "source": [
    "type([5,9,13,15,16,13,12])"
   ]
  },
  {
   "cell_type": "code",
   "execution_count": 6,
   "metadata": {},
   "outputs": [
    {
     "name": "stdout",
     "output_type": "stream",
     "text": [
      "[ 5  9 13 15 16 13 12]\n"
     ]
    }
   ],
   "source": [
    "import numpy as np\n",
    "\n",
    "array= np.array([5,9,13,15,16,13,12])\n",
    "print(array)"
   ]
  },
  {
   "cell_type": "code",
   "execution_count": 10,
   "metadata": {},
   "outputs": [
    {
     "data": {
      "text/plain": [
       "numpy.dtype[int64]"
      ]
     },
     "execution_count": 10,
     "metadata": {},
     "output_type": "execute_result"
    }
   ],
   "source": [
    "type(array.dtype)"
   ]
  },
  {
   "cell_type": "code",
   "execution_count": 22,
   "metadata": {},
   "outputs": [
    {
     "name": "stdout",
     "output_type": "stream",
     "text": [
      "TYPE  -  int64\n",
      "\n",
      " **************************************************\n",
      "\n",
      " [[2 3]\n",
      " [4 5]\n",
      " [5 6]\n",
      " [6 8]\n",
      " [8 9]]\n"
     ]
    }
   ],
   "source": [
    "# TWO DIMENSIONAL\n",
    "\n",
    "\n",
    "arg = np.array([[2,3],[4,5],[5,6],[6,8],[8,9]])\n",
    "\n",
    "print (\"TYPE  - \", arg.dtype)\n",
    "\n",
    "print(\"\\n\", \"*\" * 50)\n",
    "\n",
    "print(\"\\n\", a)"
   ]
  },
  {
   "cell_type": "code",
   "execution_count": 24,
   "metadata": {},
   "outputs": [
    {
     "data": {
      "text/plain": [
       "array([1., 2., 3., 4., 5., 6.])"
      ]
     },
     "execution_count": 24,
     "metadata": {},
     "output_type": "execute_result"
    }
   ],
   "source": [
    "# data type conversion\n",
    "\n",
    "np.array([1,2,3,4,5,6], dtype= float)"
   ]
  },
  {
   "cell_type": "code",
   "execution_count": 26,
   "metadata": {},
   "outputs": [
    {
     "data": {
      "text/plain": [
       "array([[1, 2, 3, 4, 5],\n",
       "       [6, 7, 8, 8, 9]])"
      ]
     },
     "execution_count": 26,
     "metadata": {},
     "output_type": "execute_result"
    }
   ],
   "source": [
    "# creating array using .mat   (matrix)\n",
    "\n",
    "\n",
    "np.array(np.mat(\"1 2 3 4 5 ; 6 7 8 8 9\"))"
   ]
  },
  {
   "cell_type": "code",
   "execution_count": 28,
   "metadata": {},
   "outputs": [
    {
     "name": "stdout",
     "output_type": "stream",
     "text": [
      "[1 2 3 4 5]\n"
     ]
    }
   ],
   "source": [
    "# converting list into array:\n",
    "\n",
    "\n",
    "list= [1,2,3,4,5]\n",
    "array= np.array(list)\n",
    "print(array)"
   ]
  },
  {
   "cell_type": "code",
   "execution_count": 30,
   "metadata": {},
   "outputs": [
    {
     "name": "stdout",
     "output_type": "stream",
     "text": [
      "[1 2 3 4 5]\n"
     ]
    }
   ],
   "source": [
    "# copy array into other:\n",
    "\n",
    "\n",
    "array1= np.asarray(array)\n",
    "print(array1)"
   ]
  },
  {
   "cell_type": "code",
   "execution_count": 42,
   "metadata": {},
   "outputs": [
    {
     "name": "stdout",
     "output_type": "stream",
     "text": [
      "[[1 2 3]\n",
      " [4 5 6]\n",
      " [7 8 9]\n",
      " [3 5 7]]\n",
      " \n",
      " print type/class of this object:  <class 'numpy.ndarray'>\n",
      " \n",
      " here is the matrix \n",
      "-------------\n",
      " [[1 2 3]\n",
      " [4 5 6]\n",
      " [7 8 9]\n",
      " [3 5 7]] \n",
      "------------\n",
      "\n",
      " dimension of this matrix: 2\n",
      "\n",
      " size of this matrix: 12\n",
      "\n",
      " shape of this matrix:  (4, 3)\n",
      "\n",
      " data type of this matrix:  int64\n"
     ]
    }
   ],
   "source": [
    "# DATA TYPES  :::::::\n",
    "\n",
    "\n",
    "\n",
    "my_mat=[[1,2,3,],[4,5,6],[7,8,9],[3,5,7]]\n",
    "mat= np.array(my_mat)\n",
    "\n",
    "\n",
    "\n",
    "print(mat)\n",
    "\n",
    "print(\" \\n print type/class of this object: \", type(mat) )\n",
    "\n",
    "print(\" \\n here is the matrix \\n-------------\\n\",mat,\"\\n------------\")\n",
    "\n",
    "print(\"\\n dimension of this matrix: \",mat.ndim, sep=\"\")\n",
    "\n",
    "print(\"\\n size of this matrix: \",mat.size,sep=\"\") # gives the total numbers of the matrix elements \n",
    "\n",
    "\n",
    "print(\"\\n shape of this matrix: \",mat.shape)\n",
    "\n",
    "\n",
    "print(\"\\n data type of this matrix: \",mat.dtype)\n"
   ]
  },
  {
   "cell_type": "code",
   "execution_count": 49,
   "metadata": {},
   "outputs": [
    {
     "ename": "TypeError",
     "evalue": "list indices must be integers or slices, not range",
     "output_type": "error",
     "traceback": [
      "\u001b[0;31m---------------------------------------------------------------------------\u001b[0m",
      "\u001b[0;31mTypeError\u001b[0m                                 Traceback (most recent call last)",
      "\u001b[0;32m/var/folders/4d/ytl5tj193_7br22pvpj_t5n40000gn/T/ipykernel_11552/1386842822.py\u001b[0m in \u001b[0;36m<module>\u001b[0;34m\u001b[0m\n\u001b[1;32m      2\u001b[0m \u001b[0;34m\u001b[0m\u001b[0m\n\u001b[1;32m      3\u001b[0m \u001b[0;31m# don't work with python range  ( in python we can't generate the flote numbers in range i.e the limitation in the python.)\u001b[0m\u001b[0;34m\u001b[0m\u001b[0;34m\u001b[0m\u001b[0m\n\u001b[0;32m----> 4\u001b[0;31m \u001b[0mlist\u001b[0m\u001b[0;34m[\u001b[0m\u001b[0mrange\u001b[0m\u001b[0;34m(\u001b[0m\u001b[0;36m2\u001b[0m\u001b[0;34m,\u001b[0m\u001b[0;36m10\u001b[0m\u001b[0;34m)\u001b[0m\u001b[0;34m]\u001b[0m\u001b[0;34m\u001b[0m\u001b[0;34m\u001b[0m\u001b[0m\n\u001b[0m",
      "\u001b[0;31mTypeError\u001b[0m: list indices must be integers or slices, not range"
     ]
    }
   ],
   "source": [
    "# arange and linspace:::::::\n",
    "\n",
    "# don't work with python range  ( in python we can't generate the flote numbers in range i.e the limitation in the python.)\n",
    "list[range(2,10)]\n"
   ]
  },
  {
   "cell_type": "code",
   "execution_count": 50,
   "metadata": {},
   "outputs": [
    {
     "name": "stdout",
     "output_type": "stream",
     "text": [
      "[ 2.   2.4  2.8  3.2  3.6  4.   4.4  4.8  5.2  5.6  6.   6.4  6.8  7.2\n",
      "  7.6  8.   8.4  8.8  9.2  9.6 10.  10.4]\n"
     ]
    }
   ],
   "source": [
    "a= np.arange(2,10.5,.4)\n",
    "print(a)"
   ]
  },
  {
   "cell_type": "code",
   "execution_count": 51,
   "metadata": {},
   "outputs": [
    {
     "data": {
      "text/plain": [
       "array([10.4, 10. ,  9.6,  9.2,  8.8,  8.4,  8. ,  7.6,  7.2,  6.8,  6.4,\n",
       "        6. ,  5.6,  5.2,  4.8,  4.4,  4. ,  3.6,  3.2,  2.8,  2.4,  2. ])"
      ]
     },
     "execution_count": 51,
     "metadata": {},
     "output_type": "execute_result"
    }
   ],
   "source": [
    "# reverse order:::\n",
    "\n",
    "\n",
    "a[::-1]"
   ]
  },
  {
   "cell_type": "code",
   "execution_count": 59,
   "metadata": {},
   "outputs": [
    {
     "name": "stdout",
     "output_type": "stream",
     "text": [
      "Every 5th number from 50 in the reverse order :  [50 45 40 35 30 25 20 15 10  5]\n",
      "\n",
      " linearly spaced numbers 1 to 5 \n",
      "------------ \n",
      " [10.   18.75 27.5  36.25 45.  ] \n",
      "--------------\n"
     ]
    }
   ],
   "source": [
    "print(\"Every 5th number from 50 in the reverse order : \",np.arange(50,0,-5))\n",
    "\n",
    "\n",
    "print(\"\\n linearly spaced numbers 1 to 5 \\n------------\",\"\\n\",np.linspace(10,45,5),\"\\n--------------\")"
   ]
  },
  {
   "cell_type": "code",
   "execution_count": null,
   "metadata": {},
   "outputs": [],
   "source": [
    "a="
   ]
  }
 ],
 "metadata": {
  "interpreter": {
   "hash": "0def72b556254a724fc3e2d1e23928e40de47d3f8c60ebc77b77de7a79aa0f70"
  },
  "kernelspec": {
   "display_name": "Python 3.9.7",
   "language": "python",
   "name": "python3"
  },
  "language_info": {
   "codemirror_mode": {
    "name": "ipython",
    "version": 3
   },
   "file_extension": ".py",
   "mimetype": "text/x-python",
   "name": "python",
   "nbconvert_exporter": "python",
   "pygments_lexer": "ipython3",
   "version": "3.9.7"
  },
  "orig_nbformat": 4
 },
 "nbformat": 4,
 "nbformat_minor": 2
}
